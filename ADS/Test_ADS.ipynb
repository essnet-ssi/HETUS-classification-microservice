{
 "cells": [
  {
   "cell_type": "code",
   "execution_count": null,
   "id": "b35721e6-b160-4ade-bc96-27d89d89fce9",
   "metadata": {},
   "outputs": [],
   "source": [
    "from ADSclass import ADS\n",
    "import TablesMapping\n",
    " \n",
    " \n",
    "print(\"TSTable\",sorted(TablesMapping.TSTable.lg.unique()))\n",
    " \n",
    "print(\"FreqTUS\",sorted(TablesMapping.FreqTUS.lg.unique()))\n",
    " \n",
    "print(\"DescrGP2TusPlace_map\",sorted(set(TablesMapping.DescrGP2TusPlace_map.values())))\n",
    "ads=ADS()\n",
    "\n",
    "if(ADS.predMethod == \"prob\"):\n",
    "    # options to be set if the chosen approach is probabilistic\n",
    "    # can be 'place' | 'ageclass-condiction-place'\n",
    "    ads.createStaticTable(\"ageclass-condiction-place\") \n",
    " \n",
    "ActivityScore=ads.predict(\"../json_input/ADS_in.json\")"
   ]
  },
  {
   "cell_type": "code",
   "execution_count": null,
   "id": "687cd466-14ee-4e1e-af84-466a2f6e3085",
   "metadata": {},
   "outputs": [],
   "source": [
    "display(ActivityScore)"
   ]
  },
  {
   "cell_type": "code",
   "execution_count": null,
   "id": "0a084f2e-92df-47b2-8ead-5eed198b72f3",
   "metadata": {},
   "outputs": [],
   "source": []
  }
 ],
 "metadata": {
  "kernelspec": {
   "display_name": "Python 3 (ipykernel)",
   "language": "python",
   "name": "python3"
  },
  "language_info": {
   "codemirror_mode": {
    "name": "ipython",
    "version": 3
   },
   "file_extension": ".py",
   "mimetype": "text/x-python",
   "name": "python",
   "nbconvert_exporter": "python",
   "pygments_lexer": "ipython3",
   "version": "3.12.4"
  }
 },
 "nbformat": 4,
 "nbformat_minor": 5
}
