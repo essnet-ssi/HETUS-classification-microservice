{
 "cells": [
  {
   "cell_type": "code",
   "execution_count": 1,
   "id": "b35721e6-b160-4ade-bc96-27d89d89fce9",
   "metadata": {},
   "outputs": [
    {
     "name": "stdout",
     "output_type": "stream",
     "text": [
      "{'mapService': 'GP', 'UseTUSdata': False, 'UseUserProfileInfo': True, 'AccuracyRadiusGPSMin': 20, 'UserSpeedMax': 1.96, 'DinamicPOISearchRadiusStep': 100, 'GpsSampleSizeMax': 100}\n",
      "Load model Parameters\n",
      "Inizialize: DescrActivity,DescrGP2Activity_map,DescrOSM2tus_place_map,DescrLG,DescrGP2TusPlace_map, FreqTUS,TSTable... TABLES\n"
     ]
    }
   ],
   "source": [
    "from ADSclass import ADS #import ADS"
   ]
  },
  {
   "cell_type": "code",
   "execution_count": 2,
   "id": "dc9f5c4c-f639-4b86-a2da-039d4000f418",
   "metadata": {},
   "outputs": [],
   "source": [
    "ads=ADS() # instance of ADS"
   ]
  },
  {
   "cell_type": "code",
   "execution_count": 3,
   "id": "9e8e0944-ac86-4ffc-9de4-e5a0c8f7bbf2",
   "metadata": {},
   "outputs": [
    {
     "name": "stdout",
     "output_type": "stream",
     "text": [
      "STOP start & end  2024-02-14 16:32:25 2024-02-14 17:44:47\n",
      "\n",
      "\n",
      "\n",
      "\n",
      "\n",
      "N points before gps filter: 4261\n",
      "N points after gps filter: 4169\n",
      "*** USEFUL POI FOUND *** 21\n",
      "with radius 100 found 21\n",
      "*** DINAMIC SEARCH POIS *** 21\n",
      "ELBOW: Best number of pois is: 8\n"
     ]
    }
   ],
   "source": [
    "ActivityScore=ads.predict(\"../json_input/ADS_in.json\") # prediction of the stop in ADS_in.json"
   ]
  },
  {
   "cell_type": "code",
   "execution_count": 4,
   "id": "9a2d9b80-14fa-4716-8b27-a0eee3bc5a6b",
   "metadata": {},
   "outputs": [
    {
     "data": {
      "text/html": [
       "<div>\n",
       "<style scoped>\n",
       "    .dataframe tbody tr th:only-of-type {\n",
       "        vertical-align: middle;\n",
       "    }\n",
       "\n",
       "    .dataframe tbody tr th {\n",
       "        vertical-align: top;\n",
       "    }\n",
       "\n",
       "    .dataframe thead th {\n",
       "        text-align: right;\n",
       "    }\n",
       "</style>\n",
       "<table border=\"1\" class=\"dataframe\">\n",
       "  <thead>\n",
       "    <tr style=\"text-align: right;\">\n",
       "      <th></th>\n",
       "      <th>HETUS</th>\n",
       "      <th>ActivityScore</th>\n",
       "      <th>lg</th>\n",
       "      <th>Descr</th>\n",
       "    </tr>\n",
       "  </thead>\n",
       "  <tbody>\n",
       "    <tr>\n",
       "      <th>0</th>\n",
       "      <td>3.6.2</td>\n",
       "      <td>0.024347</td>\n",
       "      <td>12</td>\n",
       "      <td>3.6.2 Commercial and administrative services</td>\n",
       "    </tr>\n",
       "    <tr>\n",
       "      <th>1</th>\n",
       "      <td>0.3.2</td>\n",
       "      <td>0.011023</td>\n",
       "      <td>14</td>\n",
       "      <td>0.3.2 Personal care servi ces</td>\n",
       "    </tr>\n",
       "    <tr>\n",
       "      <th>2</th>\n",
       "      <td>3.6.1</td>\n",
       "      <td>0.005993</td>\n",
       "      <td>12</td>\n",
       "      <td>3.6.1 Shopping ( including online/ e -shopping)</td>\n",
       "    </tr>\n",
       "    <tr>\n",
       "      <th>3</th>\n",
       "      <td>0.2.1</td>\n",
       "      <td>0.005450</td>\n",
       "      <td>09</td>\n",
       "      <td>0.2.1 Eating</td>\n",
       "    </tr>\n",
       "    <tr>\n",
       "      <th>4</th>\n",
       "      <td>2.1.1</td>\n",
       "      <td>0.002461</td>\n",
       "      <td>06</td>\n",
       "      <td>2.1.1 Classes and lectures</td>\n",
       "    </tr>\n",
       "  </tbody>\n",
       "</table>\n",
       "</div>"
      ],
      "text/plain": [
       "   HETUS  ActivityScore  lg                                            Descr\n",
       "0  3.6.2       0.024347  12     3.6.2 Commercial and administrative services\n",
       "1  0.3.2       0.011023  14                    0.3.2 Personal care servi ces\n",
       "2  3.6.1       0.005993  12  3.6.1 Shopping ( including online/ e -shopping)\n",
       "3  0.2.1       0.005450  09                                     0.2.1 Eating\n",
       "4  2.1.1       0.002461  06                       2.1.1 Classes and lectures"
      ]
     },
     "metadata": {},
     "output_type": "display_data"
    }
   ],
   "source": [
    "display(ActivityScore[ [\"HETUS\", \"ActivityScore\", \"lg\", \"Descr\"]])"
   ]
  },
  {
   "cell_type": "code",
   "execution_count": null,
   "id": "18687c68-d6cf-4c2e-8fc6-4c376f08d062",
   "metadata": {},
   "outputs": [],
   "source": []
  },
  {
   "cell_type": "code",
   "execution_count": null,
   "id": "9fcce9ed-3a80-4b89-95fb-f377637e5023",
   "metadata": {},
   "outputs": [],
   "source": []
  },
  {
   "cell_type": "code",
   "execution_count": null,
   "id": "7bb10779-95f9-48e5-a4c0-1934231fe5fc",
   "metadata": {},
   "outputs": [],
   "source": []
  }
 ],
 "metadata": {
  "kernelspec": {
   "display_name": "Python 3 (ipykernel)",
   "language": "python",
   "name": "python3"
  },
  "language_info": {
   "codemirror_mode": {
    "name": "ipython",
    "version": 3
   },
   "file_extension": ".py",
   "mimetype": "text/x-python",
   "name": "python",
   "nbconvert_exporter": "python",
   "pygments_lexer": "ipython3",
   "version": "3.12.2"
  }
 },
 "nbformat": 4,
 "nbformat_minor": 5
}
